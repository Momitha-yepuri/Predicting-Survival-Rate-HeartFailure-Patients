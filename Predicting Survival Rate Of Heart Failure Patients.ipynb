{
 "cells": [
  {
   "cell_type": "markdown",
   "metadata": {},
   "source": [
    "**Group Name:** Statisfaction\\\n",
    "**Group Members:** Momitha Yepuri (S3856512), Sai Sreshtaa Turaga (S3814571), Anne Maria Sunil (S3820057)"
   ]
  },
  {
   "cell_type": "markdown",
   "metadata": {},
   "source": [
    "# <font size = 6.5, color=#4B52D2>Predicting Survival Rate of Patients In Heart Failure Data</font>"
   ]
  },
  {
   "cell_type": "markdown",
   "metadata": {},
   "source": [
    "# <font size= 5.5, color=#4B52D2>Introduction</font>"
   ]
  },
  {
   "cell_type": "markdown",
   "metadata": {},
   "source": [
    "This data set contains information about medical records of 299 heart failure patients, and we are trying to predict the survival rate of patients through **`ejection_fraction`** with the help of factors like **`serum_sodium`, `creatinine_phosphokinase`,`serum_creatinine`**,etc. using multiple linear regression. This dataset was sourced from Krembil Research Institute, Toronto, Canada and donated to the University of California Irvine Machine Learning Repository under the same Attribution 4.0 International (CC BY 4.0) copyright in January 2020 [here](http://archive.ics.uci.edu/ml/datasets/Heart+failure+clinical+records).\n"
   ]
  },
  {
   "cell_type": "markdown",
   "metadata": {},
   "source": [
    "# <font size= 5.5, color=#4B52D2>Table Of Contents:</font>\n",
    "- [Overview](#Overview) section describes the dataset used and the features in this dataset.\n",
    "- [Data Preparation](#Data-Preparation) section covers data cleaning and data preparation steps. \n",
    "- [Data Exploration](#Data-Exploration) section explores dataset features and their inter-relationships.\n",
    "- [Statistical Modeling and Performance Evaluation](#Statistical-Modeling-and-Performance-Evaluation) section first fits a full multiple linear regression model and performs diagnostic checks. Next, we perform backwards variable selection using p-values to obtain a reduced model, after which we perform another set of diagnostic checks on the reduced model.\n",
    "- [Summary and Conclusions](#Summary-and-Conclusions) section provides a summary of our work and presents our findings.\n",
    "- [References](#References)"
   ]
  },
  {
   "cell_type": "markdown",
   "metadata": {},
   "source": [
    "# <font size= 6.5, color=#4B52D2>Overview</font>"
   ]
  },
  {
   "cell_type": "markdown",
   "metadata": {},
   "source": [
    "### <font color=#4B52D2>Data Source:</font>\n",
    "The UCI Machine Learning Repository has a dataset which contains the medical records of 299 patients. The patient's data was collected during their follow-up period, where each patient's profile has 13 clinical features.\n",
    "The dataset consists of 299 instances and 13 attributes. Since this meets the project requirements, we decided to use this dataset as it is. Our target variable is the **`ejection_fraction`**. "
   ]
  },
  {
   "cell_type": "markdown",
   "metadata": {},
   "source": [
    "### <font color=#4B52D2>Project Objective:</font>\n",
    "Our aim is to predict the *survival rate of the heart patient* through **`ejection_fraction`** using multiple linear regression. Since decrease in ejection fraction indicates that the heart can not pump blood normally, it means the heart is not healthy enough. Ejection fraction is the main factor which determines whether the heart will function normally. Hence, we link the survival rate of the heart failure patients with ejection fraction."
   ]
  },
  {
   "cell_type": "markdown",
   "metadata": {},
   "source": [
    "### <font color=#4B52D2>Target Attribute:</font>\n",
    "Our target attribute is **`ejection_fraction`**, which is a continuous numerical feature. Hence, our project is on a regression problem. Ejection fraction (EF) is a measurement, expressed as a percentage, of how much blood the left ventricle pumps out with each contraction. An ejection fraction of 60% means that 60% of the total amount of blood in the left ventricle is pushed out with each heartbeat."
   ]
  },
  {
   "cell_type": "markdown",
   "metadata": {},
   "source": [
    "### <font color=#4B52D2>Descriptive Features:</font>\n",
    "The following are the variables in the dataset **`heart_failure_clinical_records_dataset`**:\n"
   ]
  },
  {
   "cell_type": "markdown",
   "metadata": {},
   "source": [
    "| Name | Data Type | Units| Description|\n",
    "|-------|-------|------|--------|\n",
    "|age | numerical (continuous) | years | Age of the patient in years |\n",
    "|anaemia | binary | NA | If a patient has anaemia (decrease of red blood cells or hemoglobin) |\n",
    "|creatinine_phosphokinase | numerical (discrete) | mcg/L | level of the CPK enzyme (creatinine phosphokinase) in the blood |\n",
    "|diabetes | binary | NA |  If the patient has diabetes |\n",
    "|**ejection_fraction** (target)| numerical (discrete) | percentage | The percentage of blood leaving the heart at each contraction |\n",
    "|high_blood_pressure | binary | NA |  If the patient has hypertension |\n",
    "|platelets | numerical (continuous) | kiloplatelets/mL | The amount of platelets in the blood |\n",
    "|serum_creatinine | numerical (continuous) | mg/dL | The level of serum creatinine in the blood |\n",
    "|serum_sodium | numerical (discrete) | mEq/L | The level of serum sodium in the blood |\n",
    "|sex | binary | NA | If the patient is a Female or Male |\n",
    "|smoking | binary| NA | If the patient smokes or not |\n",
    "|time | numerical (discrete) | days | Follow-up period in days |\n",
    "|DEATH_EVENT | binary | NA | If the patient died during the follow-up period |"
   ]
  },
  {
   "cell_type": "markdown",
   "metadata": {},
   "source": [
    "# <font size= 6.5, color=#4B52D2>Data Preparation</font>"
   ]
  },
  {
   "cell_type": "code",
   "execution_count": 1,
   "metadata": {},
   "outputs": [],
   "source": [
    "# Importing modules\n",
    "import numpy as np\n",
    "import pandas as pd\n",
    "import matplotlib.pyplot as plt\n",
    "import seaborn as sns\n",
    "import statsmodels.api as sm\n",
    "import statsmodels.formula.api as smf\n",
    "import patsy\n",
    "from IPython.display import display, HTML\n",
    "import warnings\n",
    "###\n",
    "warnings.filterwarnings('ignore')\n",
    "###\n",
    "%matplotlib inline \n",
    "%config InlineBackend.figure_format = 'retina'\n",
    "plt.style.use(\"ggplot\")"
   ]
  },
  {
   "cell_type": "code",
   "execution_count": 2,
   "metadata": {},
   "outputs": [],
   "source": [
    "#reading the dataset\n",
    "df = pd.read_csv('heart_failure_clinical_records_dataset.csv')\n",
    "df = df.round(3)"
   ]
  },
  {
   "cell_type": "markdown",
   "metadata": {},
   "source": [
    "## <font color=#4B52D2>Data Cleaning and Transformation</font>"
   ]
  },
  {
   "cell_type": "code",
   "execution_count": 3,
   "metadata": {},
   "outputs": [
    {
     "name": "stdout",
     "output_type": "stream",
     "text": [
      "Shape of the dataset is (299, 13) \n",
      "\n"
     ]
    }
   ],
   "source": [
    "print(f\"Shape of the dataset is {df.shape} \\n\")"
   ]
  },
  {
   "cell_type": "code",
   "execution_count": 4,
   "metadata": {},
   "outputs": [
    {
     "name": "stdout",
     "output_type": "stream",
     "text": [
      "age                         float64\n",
      "anaemia                       int64\n",
      "creatinine_phosphokinase      int64\n",
      "diabetes                      int64\n",
      "ejection_fraction             int64\n",
      "high_blood_pressure           int64\n",
      "platelets                   float64\n",
      "serum_creatinine            float64\n",
      "serum_sodium                  int64\n",
      "sex                           int64\n",
      "smoking                       int64\n",
      "time                          int64\n",
      "DEATH_EVENT                   int64\n",
      "dtype: object\n"
     ]
    }
   ],
   "source": [
    "print(df.dtypes)"
   ]
  },
  {
   "cell_type": "markdown",
   "metadata": {},
   "source": [
    "## <font color=#4B52D2>Checking for missing values</font>"
   ]
  },
  {
   "cell_type": "code",
   "execution_count": 5,
   "metadata": {},
   "outputs": [
    {
     "name": "stdout",
     "output_type": "stream",
     "text": [
      "\n",
      "Number of missing values for each feature:\n",
      "age                         0\n",
      "anaemia                     0\n",
      "creatinine_phosphokinase    0\n",
      "diabetes                    0\n",
      "ejection_fraction           0\n",
      "high_blood_pressure         0\n",
      "platelets                   0\n",
      "serum_creatinine            0\n",
      "serum_sodium                0\n",
      "sex                         0\n",
      "smoking                     0\n",
      "time                        0\n",
      "DEATH_EVENT                 0\n",
      "dtype: int64\n"
     ]
    }
   ],
   "source": [
    "print(f\"\\nNumber of missing values for each feature:\")\n",
    "print(df.isnull().sum())"
   ]
  },
  {
   "cell_type": "markdown",
   "metadata": {},
   "source": [
    "Since none of the features contain any missing values we don't have to make any changes to the attributes."
   ]
  },
  {
   "cell_type": "markdown",
   "metadata": {},
   "source": [
    "## <font color=#4B52D2>Summary Statistics</font>\n"
   ]
  },
  {
   "cell_type": "markdown",
   "metadata": {},
   "source": [
    "Summary of Numeric features ( Table - 1, 2 ):"
   ]
  },
  {
   "cell_type": "code",
   "execution_count": 6,
   "metadata": {},
   "outputs": [
    {
     "data": {
      "text/html": [
       "<b>Table 1:</b>"
      ],
      "text/plain": [
       "<IPython.core.display.HTML object>"
      ]
     },
     "metadata": {},
     "output_type": "display_data"
    },
    {
     "data": {
      "text/html": [
       "<div>\n",
       "<style scoped>\n",
       "    .dataframe tbody tr th:only-of-type {\n",
       "        vertical-align: middle;\n",
       "    }\n",
       "\n",
       "    .dataframe tbody tr th {\n",
       "        vertical-align: top;\n",
       "    }\n",
       "\n",
       "    .dataframe thead th {\n",
       "        text-align: right;\n",
       "    }\n",
       "</style>\n",
       "<table border=\"1\" class=\"dataframe\">\n",
       "  <thead>\n",
       "    <tr style=\"text-align: right;\">\n",
       "      <th></th>\n",
       "      <th>anaemia</th>\n",
       "      <th>creatinine_phosphokinase</th>\n",
       "      <th>diabetes</th>\n",
       "      <th>ejection_fraction</th>\n",
       "      <th>high_blood_pressure</th>\n",
       "      <th>serum_sodium</th>\n",
       "      <th>sex</th>\n",
       "      <th>smoking</th>\n",
       "      <th>time</th>\n",
       "      <th>DEATH_EVENT</th>\n",
       "    </tr>\n",
       "  </thead>\n",
       "  <tbody>\n",
       "    <tr>\n",
       "      <th>count</th>\n",
       "      <td>299.000000</td>\n",
       "      <td>299.000000</td>\n",
       "      <td>299.000000</td>\n",
       "      <td>299.000000</td>\n",
       "      <td>299.000000</td>\n",
       "      <td>299.000000</td>\n",
       "      <td>299.000000</td>\n",
       "      <td>299.00000</td>\n",
       "      <td>299.000000</td>\n",
       "      <td>299.00000</td>\n",
       "    </tr>\n",
       "    <tr>\n",
       "      <th>mean</th>\n",
       "      <td>0.431438</td>\n",
       "      <td>581.839465</td>\n",
       "      <td>0.418060</td>\n",
       "      <td>38.083612</td>\n",
       "      <td>0.351171</td>\n",
       "      <td>136.625418</td>\n",
       "      <td>0.648829</td>\n",
       "      <td>0.32107</td>\n",
       "      <td>130.260870</td>\n",
       "      <td>0.32107</td>\n",
       "    </tr>\n",
       "    <tr>\n",
       "      <th>std</th>\n",
       "      <td>0.496107</td>\n",
       "      <td>970.287881</td>\n",
       "      <td>0.494067</td>\n",
       "      <td>11.834841</td>\n",
       "      <td>0.478136</td>\n",
       "      <td>4.412477</td>\n",
       "      <td>0.478136</td>\n",
       "      <td>0.46767</td>\n",
       "      <td>77.614208</td>\n",
       "      <td>0.46767</td>\n",
       "    </tr>\n",
       "    <tr>\n",
       "      <th>min</th>\n",
       "      <td>0.000000</td>\n",
       "      <td>23.000000</td>\n",
       "      <td>0.000000</td>\n",
       "      <td>14.000000</td>\n",
       "      <td>0.000000</td>\n",
       "      <td>113.000000</td>\n",
       "      <td>0.000000</td>\n",
       "      <td>0.00000</td>\n",
       "      <td>4.000000</td>\n",
       "      <td>0.00000</td>\n",
       "    </tr>\n",
       "    <tr>\n",
       "      <th>25%</th>\n",
       "      <td>0.000000</td>\n",
       "      <td>116.500000</td>\n",
       "      <td>0.000000</td>\n",
       "      <td>30.000000</td>\n",
       "      <td>0.000000</td>\n",
       "      <td>134.000000</td>\n",
       "      <td>0.000000</td>\n",
       "      <td>0.00000</td>\n",
       "      <td>73.000000</td>\n",
       "      <td>0.00000</td>\n",
       "    </tr>\n",
       "    <tr>\n",
       "      <th>50%</th>\n",
       "      <td>0.000000</td>\n",
       "      <td>250.000000</td>\n",
       "      <td>0.000000</td>\n",
       "      <td>38.000000</td>\n",
       "      <td>0.000000</td>\n",
       "      <td>137.000000</td>\n",
       "      <td>1.000000</td>\n",
       "      <td>0.00000</td>\n",
       "      <td>115.000000</td>\n",
       "      <td>0.00000</td>\n",
       "    </tr>\n",
       "    <tr>\n",
       "      <th>75%</th>\n",
       "      <td>1.000000</td>\n",
       "      <td>582.000000</td>\n",
       "      <td>1.000000</td>\n",
       "      <td>45.000000</td>\n",
       "      <td>1.000000</td>\n",
       "      <td>140.000000</td>\n",
       "      <td>1.000000</td>\n",
       "      <td>1.00000</td>\n",
       "      <td>203.000000</td>\n",
       "      <td>1.00000</td>\n",
       "    </tr>\n",
       "    <tr>\n",
       "      <th>max</th>\n",
       "      <td>1.000000</td>\n",
       "      <td>7861.000000</td>\n",
       "      <td>1.000000</td>\n",
       "      <td>80.000000</td>\n",
       "      <td>1.000000</td>\n",
       "      <td>148.000000</td>\n",
       "      <td>1.000000</td>\n",
       "      <td>1.00000</td>\n",
       "      <td>285.000000</td>\n",
       "      <td>1.00000</td>\n",
       "    </tr>\n",
       "  </tbody>\n",
       "</table>\n",
       "</div>"
      ],
      "text/plain": [
       "          anaemia  creatinine_phosphokinase    diabetes  ejection_fraction  \\\n",
       "count  299.000000                299.000000  299.000000         299.000000   \n",
       "mean     0.431438                581.839465    0.418060          38.083612   \n",
       "std      0.496107                970.287881    0.494067          11.834841   \n",
       "min      0.000000                 23.000000    0.000000          14.000000   \n",
       "25%      0.000000                116.500000    0.000000          30.000000   \n",
       "50%      0.000000                250.000000    0.000000          38.000000   \n",
       "75%      1.000000                582.000000    1.000000          45.000000   \n",
       "max      1.000000               7861.000000    1.000000          80.000000   \n",
       "\n",
       "       high_blood_pressure  serum_sodium         sex    smoking        time  \\\n",
       "count           299.000000    299.000000  299.000000  299.00000  299.000000   \n",
       "mean              0.351171    136.625418    0.648829    0.32107  130.260870   \n",
       "std               0.478136      4.412477    0.478136    0.46767   77.614208   \n",
       "min               0.000000    113.000000    0.000000    0.00000    4.000000   \n",
       "25%               0.000000    134.000000    0.000000    0.00000   73.000000   \n",
       "50%               0.000000    137.000000    1.000000    0.00000  115.000000   \n",
       "75%               1.000000    140.000000    1.000000    1.00000  203.000000   \n",
       "max               1.000000    148.000000    1.000000    1.00000  285.000000   \n",
       "\n",
       "       DEATH_EVENT  \n",
       "count    299.00000  \n",
       "mean       0.32107  \n",
       "std        0.46767  \n",
       "min        0.00000  \n",
       "25%        0.00000  \n",
       "50%        0.00000  \n",
       "75%        1.00000  \n",
       "max        1.00000  "
      ]
     },
     "execution_count": 6,
     "metadata": {},
     "output_type": "execute_result"
    }
   ],
   "source": [
    "display(HTML('<b>Table 1:</b>'))\n",
    "df.describe(include = 'int64')"
   ]
  },
  {
   "cell_type": "code",
   "execution_count": 7,
   "metadata": {},
   "outputs": [
    {
     "data": {
      "text/html": [
       "<b>Table 2:</b>"
      ],
      "text/plain": [
       "<IPython.core.display.HTML object>"
      ]
     },
     "metadata": {},
     "output_type": "display_data"
    },
    {
     "data": {
      "text/html": [
       "<div>\n",
       "<style scoped>\n",
       "    .dataframe tbody tr th:only-of-type {\n",
       "        vertical-align: middle;\n",
       "    }\n",
       "\n",
       "    .dataframe tbody tr th {\n",
       "        vertical-align: top;\n",
       "    }\n",
       "\n",
       "    .dataframe thead th {\n",
       "        text-align: right;\n",
       "    }\n",
       "</style>\n",
       "<table border=\"1\" class=\"dataframe\">\n",
       "  <thead>\n",
       "    <tr style=\"text-align: right;\">\n",
       "      <th></th>\n",
       "      <th>age</th>\n",
       "      <th>platelets</th>\n",
       "      <th>serum_creatinine</th>\n",
       "    </tr>\n",
       "  </thead>\n",
       "  <tbody>\n",
       "    <tr>\n",
       "      <th>count</th>\n",
       "      <td>299.000000</td>\n",
       "      <td>299.000000</td>\n",
       "      <td>299.00000</td>\n",
       "    </tr>\n",
       "    <tr>\n",
       "      <th>mean</th>\n",
       "      <td>60.833893</td>\n",
       "      <td>263358.029264</td>\n",
       "      <td>1.39388</td>\n",
       "    </tr>\n",
       "    <tr>\n",
       "      <th>std</th>\n",
       "      <td>11.894809</td>\n",
       "      <td>97804.236869</td>\n",
       "      <td>1.03451</td>\n",
       "    </tr>\n",
       "    <tr>\n",
       "      <th>min</th>\n",
       "      <td>40.000000</td>\n",
       "      <td>25100.000000</td>\n",
       "      <td>0.50000</td>\n",
       "    </tr>\n",
       "    <tr>\n",
       "      <th>25%</th>\n",
       "      <td>51.000000</td>\n",
       "      <td>212500.000000</td>\n",
       "      <td>0.90000</td>\n",
       "    </tr>\n",
       "    <tr>\n",
       "      <th>50%</th>\n",
       "      <td>60.000000</td>\n",
       "      <td>262000.000000</td>\n",
       "      <td>1.10000</td>\n",
       "    </tr>\n",
       "    <tr>\n",
       "      <th>75%</th>\n",
       "      <td>70.000000</td>\n",
       "      <td>303500.000000</td>\n",
       "      <td>1.40000</td>\n",
       "    </tr>\n",
       "    <tr>\n",
       "      <th>max</th>\n",
       "      <td>95.000000</td>\n",
       "      <td>850000.000000</td>\n",
       "      <td>9.40000</td>\n",
       "    </tr>\n",
       "  </tbody>\n",
       "</table>\n",
       "</div>"
      ],
      "text/plain": [
       "              age      platelets  serum_creatinine\n",
       "count  299.000000     299.000000         299.00000\n",
       "mean    60.833893  263358.029264           1.39388\n",
       "std     11.894809   97804.236869           1.03451\n",
       "min     40.000000   25100.000000           0.50000\n",
       "25%     51.000000  212500.000000           0.90000\n",
       "50%     60.000000  262000.000000           1.10000\n",
       "75%     70.000000  303500.000000           1.40000\n",
       "max     95.000000  850000.000000           9.40000"
      ]
     },
     "execution_count": 7,
     "metadata": {},
     "output_type": "execute_result"
    }
   ],
   "source": [
    "display(HTML('<b>Table 2:</b>'))\n",
    "df.describe(include='float64')"
   ]
  },
  {
   "cell_type": "markdown",
   "metadata": {},
   "source": [
    "## <font color=#4B52D2>Target Feature</font>"
   ]
  },
  {
   "cell_type": "code",
   "execution_count": 8,
   "metadata": {},
   "outputs": [
    {
     "data": {
      "text/plain": [
       "count    299.000000\n",
       "mean      38.083612\n",
       "std       11.834841\n",
       "min       14.000000\n",
       "25%       30.000000\n",
       "50%       38.000000\n",
       "75%       45.000000\n",
       "max       80.000000\n",
       "Name: ejection_fraction, dtype: float64"
      ]
     },
     "execution_count": 8,
     "metadata": {},
     "output_type": "execute_result"
    }
   ],
   "source": [
    "df['ejection_fraction'].describe()"
   ]
  },
  {
   "cell_type": "markdown",
   "metadata": {},
   "source": [
    "The range of `ejection_fraction` appears to be 14-80."
   ]
  },
  {
   "cell_type": "markdown",
   "metadata": {},
   "source": [
    "## <font color=#4B52D2>Fixing Column Names</font>"
   ]
  },
  {
   "cell_type": "markdown",
   "metadata": {},
   "source": [
    "`smoking` is changed to `smoker`, to better suit the information it provides   \n",
    "`DEATH_EVENT` is changed to `death_event`"
   ]
  },
  {
   "cell_type": "code",
   "execution_count": 9,
   "metadata": {},
   "outputs": [],
   "source": [
    "df.rename(columns = {'smoking':'smoker','DEATH_EVENT':'death_event'}, inplace = True)"
   ]
  },
  {
   "cell_type": "markdown",
   "metadata": {},
   "source": [
    "# <font size= 6.5, color=#4B52D2>Data Exploration</font>"
   ]
  },
  {
   "cell_type": "markdown",
   "metadata": {},
   "source": [
    "The dataset can now be considered \"clean\" and it is ready for visualisation and statistical modeling."
   ]
  },
  {
   "cell_type": "markdown",
   "metadata": {},
   "source": [
    "## <font color=#4B52D2>Univariate Visualisation</font>"
   ]
  },
  {
   "cell_type": "code",
   "execution_count": 14,
   "metadata": {},
   "outputs": [
    {
     "ename": "SyntaxError",
     "evalue": "invalid syntax (<ipython-input-14-c9a22245436f>, line 1)",
     "output_type": "error",
     "traceback": [
      "\u001b[0;36m  File \u001b[0;32m\"<ipython-input-14-c9a22245436f>\"\u001b[0;36m, line \u001b[0;32m1\u001b[0m\n\u001b[0;31m    sns.boxplot(df['title'],('Figure 1: Box Plot of ejection fraction', fontsize = 15)\u001b[0m\n\u001b[0m                                                                                 ^\u001b[0m\n\u001b[0;31mSyntaxError\u001b[0m\u001b[0;31m:\u001b[0m invalid syntax\n"
     ]
    }
   ],
   "source": [
    "sns.boxplot(df['title'],=.set_title('Figure 1: Box Plot of ejection fraction', fontsize = 15)\n",
    "plt.show();"
   ]
  },
  {
   "cell_type": "markdown",
   "metadata": {},
   "source": [
    "`Figure 1` shows that the target variable is **right-skewed**. We can also see 2 suspected outliers."
   ]
  },
  {
   "cell_type": "code",
   "execution_count": null,
   "metadata": {},
   "outputs": [],
   "source": [
    "sns.distplot(df['ejection_fraction'], kde = True, color = '#f85441', bins = 11).set_title('Figure 2: Histogram of ejection_fraction', fontsize = 15)\n",
    "plt.show();"
   ]
  },
  {
   "cell_type": "markdown",
   "metadata": {},
   "source": [
    "We can see that the most common ejection fraction is between 35 and 40, and the distribution appears to be unimodal from `Figure 2`"
   ]
  },
  {
   "cell_type": "markdown",
   "metadata": {},
   "source": [
    "**HISTOGRAMS OF THE NUMERICAL VARIABLES:**"
   ]
  },
  {
   "cell_type": "code",
   "execution_count": null,
   "metadata": {},
   "outputs": [],
   "source": [
    "f, (ax1, ax2) = plt.subplots(1, 2, figsize=(15, 8))\n",
    "ax1.hist(df['age'], color= 'salmon', edgecolor = 'black', linewidth = 1, bins = 11)\n",
    "ax1.set_title('Figure 3: Histogram of age')\n",
    "ax2.hist(df['creatinine_phosphokinase'], color= 'salmon', edgecolor = 'black', linewidth = 1, bins = 11)\n",
    "ax2.set_title('Figure 4: Histogram of creatinine phosphokinase')"
   ]
  },
  {
   "cell_type": "code",
   "execution_count": null,
   "metadata": {
    "scrolled": false
   },
   "outputs": [],
   "source": [
    "f, (ax1, ax2) = plt.subplots(1, 2, figsize=(15, 8))\n",
    "ax1.hist(df['platelets'], color= 'salmon', edgecolor = 'black', linewidth = 1, bins = 11)\n",
    "ax1.set_title('Figure 5: Histogram of platelets')\n",
    "ax2.hist(df['serum_creatinine'], color= 'salmon', edgecolor = 'black', linewidth = 1, bins = 11)\n",
    "ax2.set_title('Figure 6: Histogram of serum creatinine')"
   ]
  },
  {
   "cell_type": "code",
   "execution_count": null,
   "metadata": {},
   "outputs": [],
   "source": [
    "f, (ax1, ax2) = plt.subplots(1, 2, figsize=(15, 8))\n",
    "ax1.hist(df['serum_sodium'], color= 'salmon', edgecolor = 'black', linewidth = 1, bins = 11)\n",
    "ax1.set_title('Figure 7: Histogram of serum sodium')\n",
    "ax2.hist(df['time'], color= 'salmon', edgecolor = 'black', linewidth = 1, bins = 11)\n",
    "ax2.set_title('Figure 8: Histogram of time')"
   ]
  },
  {
   "cell_type": "markdown",
   "metadata": {},
   "source": [
    "**OBSERVATIONS FROM THE HISTOGRAMS:**"
   ]
  },
  {
   "cell_type": "markdown",
   "metadata": {},
   "source": [
    "1. From figures 3 and 4, `age` is unimodal and has a nearly normal distribution, and `creatinine_phosphokinase` has a large positive skew and is unimodal.\n",
    "2. From figures 5 and 6,`platelets` are right-skewed and unimodal, and `serum_creatinine` has a large positive skew and is unimodal.\n",
    "3. From figures 7 and 8, `serum_sodium` is left-skewed and unimodal, and `time` is multimodal."
   ]
  },
  {
   "cell_type": "markdown",
   "metadata": {},
   "source": [
    "**BOXPLOTS OF THE NUMERICAL VARIABLES:**"
   ]
  },
  {
   "cell_type": "code",
   "execution_count": null,
   "metadata": {},
   "outputs": [],
   "source": [
    "sns.boxplot(df['age']).set_title('Figure 9: Box Plot of age', fontsize = 15)\n",
    "plt.show();"
   ]
  },
  {
   "cell_type": "code",
   "execution_count": null,
   "metadata": {},
   "outputs": [],
   "source": [
    "sns.boxplot(df['creatinine_phosphokinase']).set_title('Figure 10: Box Plot of creatinine phosphokinase', fontsize = 15)\n",
    "plt.show();"
   ]
  },
  {
   "cell_type": "code",
   "execution_count": null,
   "metadata": {},
   "outputs": [],
   "source": [
    "sns.boxplot(df['platelets']).set_title('Figure 11: Box Plot of platelets', fontsize = 15)\n",
    "plt.show();"
   ]
  },
  {
   "cell_type": "code",
   "execution_count": null,
   "metadata": {
    "scrolled": false
   },
   "outputs": [],
   "source": [
    "sns.boxplot(df['serum_creatinine']).set_title('Figure 12: Box Plot of serum creatinine', fontsize = 15)\n",
    "plt.show();"
   ]
  },
  {
   "cell_type": "code",
   "execution_count": null,
   "metadata": {},
   "outputs": [],
   "source": [
    "sns.boxplot(df['serum_sodium']).set_title('Figure 13: Box Plot of serum sodium', fontsize = 15)\n",
    "plt.show();"
   ]
  },
  {
   "cell_type": "code",
   "execution_count": null,
   "metadata": {
    "scrolled": false
   },
   "outputs": [],
   "source": [
    "sns.boxplot(df['time']).set_title('Figure 14: Box Plot of time', fontsize = 15)\n",
    "plt.show();"
   ]
  },
  {
   "cell_type": "markdown",
   "metadata": {},
   "source": [
    "**OBSERVATIONS FROM THE BOX PLOTS:**"
   ]
  },
  {
   "cell_type": "markdown",
   "metadata": {},
   "source": [
    "1. From figures 10-13, we can see that `creatinine_phosphokinase`, `platelets`, `serum_creatinine`, `serum_sodium` have a lot of outliers but we will keep them because they seem to give us information. `creatinine_phosphokinase`, `platelets`, `serum_creatinine` are right-skewed and `serum_sodium` is left-skewed.\n",
    "2. From figures 9 and 14, we can see that `age` and `time` have no outliers and are right-skewed."
   ]
  },
  {
   "cell_type": "markdown",
   "metadata": {},
   "source": [
    "**BAR GRAPHS OF THE BINARY VARIABLES:**"
   ]
  },
  {
   "cell_type": "code",
   "execution_count": null,
   "metadata": {},
   "outputs": [],
   "source": [
    "false = [170,174,194,203]\n",
    "true = [129,125,105,96]\n",
    "index = ['anaemia','diabetes', 'high_blood_pressure', 'smoker']\n",
    "ds = pd.DataFrame({'false': false,'true': true}, index=index)\n",
    "ax = ds.plot.bar(rot=0)\n",
    "ax.set_title('Figure 15: Bar charts of binary variables:')"
   ]
  },
  {
   "cell_type": "code",
   "execution_count": null,
   "metadata": {},
   "outputs": [],
   "source": [
    "false = [203]\n",
    "true = [96]\n",
    "index = ['death_event']\n",
    "ds = pd.DataFrame({'false': false,'true': true}, index=index)\n",
    "ax = ds.plot.bar(rot=0)\n",
    "ax.set_title('Figure 16: Bar chart of death event:')"
   ]
  },
  {
   "cell_type": "code",
   "execution_count": null,
   "metadata": {
    "scrolled": false
   },
   "outputs": [],
   "source": [
    "Female = [105]\n",
    "Male = [194]\n",
    "index = ['sex']\n",
    "ds = pd.DataFrame({'Female': Female,'Male': Male}, index=index)\n",
    "ax = ds.plot.bar(rot=0)\n",
    "ax.set_title('Figure 17: Bar charts of gender:')"
   ]
  },
  {
   "cell_type": "markdown",
   "metadata": {},
   "source": [
    "**OBSERVATIONS FROM THE BAR GRAPHS:**"
   ]
  },
  {
   "cell_type": "markdown",
   "metadata": {},
   "source": [
    "From figures 15-17, we can observe that there are a lot less **anaemic, diabetic, high blood pressure and smoking** patients than **non-anaemic, non-diabetic, no high blood pressure and non-smoking** patients."
   ]
  },
  {
   "cell_type": "markdown",
   "metadata": {},
   "source": [
    "## <font color=#4B52D2>Multivariate Visualisation</font>"
   ]
  },
  {
   "cell_type": "markdown",
   "metadata": {},
   "source": [
    "### <font color=#4B52D2>Scatter plots of numerical features and ejection_fraction </font>"
   ]
  },
  {
   "cell_type": "code",
   "execution_count": null,
   "metadata": {},
   "outputs": [],
   "source": [
    "cpk = df['creatinine_phosphokinase']\n",
    "plt.scatter(cpk, df['ejection_fraction'], alpha = 0.3)\n",
    "plt.title('Figure 18: Scatterplot of creatinine_phosphokinase and ejection_fraction', fontsize = 15)\n",
    "plt.xlabel('creatinine_phosphokinase')\n",
    "plt.ylabel('ejection_fraction')\n",
    "plt.show();"
   ]
  },
  {
   "cell_type": "code",
   "execution_count": null,
   "metadata": {},
   "outputs": [],
   "source": [
    "p = df['platelets']\n",
    "plt.scatter(p, df['ejection_fraction'], alpha = 0.3)\n",
    "plt.title('Figure 19: Scatterplot of platelets and ejection_fraction', fontsize = 15)\n",
    "plt.xlabel('platelets')\n",
    "plt.ylabel('ejection_fraction')\n",
    "plt.show();"
   ]
  },
  {
   "cell_type": "code",
   "execution_count": null,
   "metadata": {},
   "outputs": [],
   "source": [
    "sc = df['serum_creatinine']\n",
    "plt.scatter(sc, df['ejection_fraction'], alpha = 0.3)\n",
    "plt.title('Figure 20: Scatterplot of serum_creatinine and ejection_fraction', fontsize = 15)\n",
    "plt.xlabel('serum_creatinine')\n",
    "plt.ylabel('ejection_fraction')\n",
    "plt.show();"
   ]
  },
  {
   "cell_type": "code",
   "execution_count": null,
   "metadata": {},
   "outputs": [],
   "source": [
    "ss = df['serum_sodium']\n",
    "\n",
    "plt.scatter(ss, df['ejection_fraction'], alpha = 0.3)\n",
    "plt.title('Figure 21: Scatterplot of serum_sodium and ejection_fraction', fontsize = 15)\n",
    "plt.xlabel('serum_sodium')\n",
    "plt.ylabel('ejection_fraction')\n",
    "plt.show();"
   ]
  },
  {
   "cell_type": "code",
   "execution_count": null,
   "metadata": {},
   "outputs": [],
   "source": [
    "t = df['time']\n",
    "\n",
    "plt.scatter(t, df['ejection_fraction'], alpha = 0.3)\n",
    "plt.title('Figure 22: Scatterplot of time and ejection_fraction', fontsize = 15)\n",
    "plt.xlabel('time')\n",
    "plt.ylabel('ejection_fraction')\n",
    "plt.show();"
   ]
  },
  {
   "cell_type": "markdown",
   "metadata": {},
   "source": [
    "# <font color=#4B52D2>Statistical Modeling and Performance Evaluation</font>"
   ]
  },
  {
   "cell_type": "markdown",
   "metadata": {},
   "source": [
    "## <font color=#4B52D2>Full Model</font>"
   ]
  },
  {
   "cell_type": "code",
   "execution_count": null,
   "metadata": {},
   "outputs": [],
   "source": [
    "pd.set_option('display.max_columns', None)\n",
    "df.head()"
   ]
  },
  {
   "cell_type": "code",
   "execution_count": null,
   "metadata": {},
   "outputs": [],
   "source": [
    "formula_string_explan_var = ' + '.join(df.drop(columns='ejection_fraction').columns)\n",
    "formula_string = 'ejection_fraction ~ ' + formula_string_explan_var\n",
    "print('formula_string: ', formula_string)"
   ]
  },
  {
   "cell_type": "markdown",
   "metadata": {},
   "source": [
    "Experimenting with interaction terms, we tried adding **`age:sex`, `serum_sodium:death_event`, `creatinine_phosphokinase:death_event`, `sex:death_event`**, one at a time, and observed **`age:sex`** had an impact on adjusted R-squared, while others did not."
   ]
  },
  {
   "cell_type": "code",
   "execution_count": null,
   "metadata": {},
   "outputs": [],
   "source": [
    "formula_string = formula_string + ' + age:sex'\n",
    "print('formula_string: ', formula_string)"
   ]
  },
  {
   "cell_type": "code",
   "execution_count": null,
   "metadata": {
    "scrolled": false
   },
   "outputs": [],
   "source": [
    "model_full = sm.formula.ols(formula=formula_string, data=df)\n",
    "###\n",
    "model_full_fitted = model_full.fit()\n",
    "###\n",
    "print(model_full_fitted.summary())"
   ]
  },
  {
   "cell_type": "markdown",
   "metadata": {},
   "source": [
    "The full model has an adjusted R-squared value of 0.112, which means that only 11% of the variance is explained by the model. By looking at the p-values, we observe that the majority of them are not highly significant, though there are a few significant variables at a 5% level."
   ]
  },
  {
   "cell_type": "markdown",
   "metadata": {},
   "source": [
    "Creating a new data frame for actual ejection_fraction vs. predicted ejection_fraction and the residuals for the full model. We will use this data frame when plotting predicted values and the regression residuals."
   ]
  },
  {
   "cell_type": "code",
   "execution_count": null,
   "metadata": {},
   "outputs": [],
   "source": [
    "residuals_full = pd.DataFrame({'actual': df['ejection_fraction'], \n",
    "                            'predicted': model_full_fitted.fittedvalues, \n",
    "                            'residual': model_full_fitted.resid})\n",
    "residuals_full.head(10)"
   ]
  },
  {
   "cell_type": "code",
   "execution_count": null,
   "metadata": {},
   "outputs": [],
   "source": [
    "def plot_line(axis, slope, intercept, **kargs):\n",
    "    xmin, xmax = axis.get_xlim()\n",
    "    plt.plot([xmin, xmax], [xmin*slope+intercept, xmax*slope+intercept], **kargs)\n",
    "    \n",
    "# Creating scatter plot\n",
    "plt.scatter(residuals_full['actual'], residuals_full['predicted'], alpha=0.3);\n",
    "plot_line(axis=plt.gca(), slope=1, intercept=0, c=\"red\");\n",
    "plt.xlabel('Actual ejection_fraction');\n",
    "plt.ylabel('Predicted ejection_fraction');\n",
    "plt.title('Figure 23: Scatter plot of actual vs. predicted ejection_fraction for the Full Model', fontsize=15);\n",
    "plt.show();"
   ]
  },
  {
   "cell_type": "markdown",
   "metadata": {},
   "source": [
    "From `Figure 23`, we observe that the model never produces a prediction above 55 even though the maximum `ejection_fraction` in the dataset is 80. We will now check the diagnostics for the full model."
   ]
  },
  {
   "cell_type": "markdown",
   "metadata": {},
   "source": [
    "# <font color=#4B52D2>Full Model Diagnostic Checks</font>"
   ]
  },
  {
   "cell_type": "markdown",
   "metadata": {},
   "source": [
    "We would like to check whether there are indications of violations of the regression assumptions, which are\n",
    "1. linearity of the relationship between target variable and the independent variables\n",
    "2. constant variance of the errors\n",
    "3. normality of the residual distribution\n",
    "4. statistical independence of the residuals\n",
    "Let's first get a scatter plot of residuals (as a function of predicted ejection_fraction)"
   ]
  },
  {
   "cell_type": "code",
   "execution_count": null,
   "metadata": {},
   "outputs": [],
   "source": [
    "plt.scatter(residuals_full['predicted'], residuals_full['residual'], alpha=0.3);\n",
    "plt.xlabel('Predicted ejection_fraction');\n",
    "plt.ylabel('Residuals')\n",
    "plt.title('Figure 24: Scatterplot of residuals vs. predicted ejection_fraction for Full Model', fontsize=15)\n",
    "plt.show();"
   ]
  },
  {
   "cell_type": "markdown",
   "metadata": {},
   "source": [
    "From `Figure 24`, we can see that rather than being mostly random and centered around 0, this pattern indicates that the constant variability assumption of linear regression is not quite satisfied in this case."
   ]
  },
  {
   "cell_type": "code",
   "execution_count": null,
   "metadata": {},
   "outputs": [],
   "source": [
    "plt.scatter(residuals_full['actual'], residuals_full['residual'], alpha=0.3);\n",
    "plt.xlabel('Actual ejection_fraction');\n",
    "plt.ylabel('Residuals')\n",
    "plt.title('Figure 25: Scatterplot of residuals vs. actual ejection fraction for Full Model', fontsize=15)\n",
    "plt.show();"
   ]
  },
  {
   "cell_type": "markdown",
   "metadata": {},
   "source": [
    "From `Figure 25`, we notice that the model overestimates lower ejection fraction and underestimates higher ejection fraction. In particular, for ejection fractions below 40, the model predicts much higher ejection fractions. Also, for those above  ejection fraction of 40, the model predicts significantly lower ejection fractions."
   ]
  },
  {
   "cell_type": "markdown",
   "metadata": {},
   "source": [
    "The overlay the histograms of actual vs. predicted ejection_fraction on the same plot."
   ]
  },
  {
   "cell_type": "code",
   "execution_count": null,
   "metadata": {},
   "outputs": [],
   "source": [
    "plt.hist(residuals_full['actual'], label='actual', bins=11, alpha=0.7);\n",
    "plt.hist(residuals_full['predicted'], label='predicted', bins=11, alpha=0.7);\n",
    "plt.xlabel('ejection_fraction');\n",
    "plt.ylabel('Frequency');\n",
    "plt.title('Figure 26: Histograms of actual ejection_fraction vs. predicted ejection_fraction for Full Model', fontsize=15);\n",
    "plt.legend()\n",
    "plt.show();"
   ]
  },
  {
   "cell_type": "markdown",
   "metadata": {},
   "source": [
    "From `Figure 26` we notice that their distributions are quite different. In particular, the model's predictions are highly clustered between mid 30's to mid 40's"
   ]
  },
  {
   "cell_type": "markdown",
   "metadata": {},
   "source": [
    "We are now plotting the Histogram of the residuals."
   ]
  },
  {
   "cell_type": "code",
   "execution_count": null,
   "metadata": {},
   "outputs": [],
   "source": [
    "plt.hist(residuals_full['residual'], bins = 11);\n",
    "plt.xlabel('Residual');\n",
    "plt.ylabel('Frequency');\n",
    "plt.title('Figure 27: Histogram of residuals for Full Model', fontsize=15);\n",
    "plt.show();"
   ]
  },
  {
   "cell_type": "markdown",
   "metadata": {},
   "source": [
    "From `Figure 27`, the histogram of residuals looks slighty skewed to the right. However, it seems the normality assumption of linear regression is not significantly violated in this particular case."
   ]
  },
  {
   "cell_type": "markdown",
   "metadata": {},
   "source": [
    "# <font color=#4B52D2>Backwards Feature Selection</font>"
   ]
  },
  {
   "cell_type": "code",
   "execution_count": null,
   "metadata": {
    "scrolled": false
   },
   "outputs": [],
   "source": [
    "# performing backwards elimination using p-values\n",
    "\n",
    "patsy_description = patsy.ModelDesc.from_formula(formula_string)\n",
    "linreg_fit = model_full_fitted\n",
    "p_val_cutoff = 0.05\n",
    "\n",
    "print('\\nPerforming backwards feature selection using p-values:')\n",
    "\n",
    "while True:\n",
    "    \n",
    "    print(linreg_fit.summary())\n",
    "\n",
    "    p_values = linreg_fit.pvalues.drop(labels='Intercept')\n",
    "    p_values = p_values.sort_values(ascending=False)\n",
    "    term = p_values.index[0]\n",
    "    pval = p_values[0]\n",
    "    if (pval < p_val_cutoff):\n",
    "        break\n",
    "    term_components = term.split(':')\n",
    "    print(f'\\nRemoving term \"{term}\" with p-value {pval:.4}')\n",
    "    if (len(term_components) == 1): \n",
    "        patsy_description.rhs_termlist.remove(patsy.Term([patsy.EvalFactor(term_components[0])]))    \n",
    "    else: \n",
    "        patsy_description.rhs_termlist.remove(patsy.Term([patsy.EvalFactor(term_components[0]), \n",
    "                                                        patsy.EvalFactor(term_components[1])]))    \n",
    "        \n",
    "    linreg_fit = smf.ols(formula=patsy_description, data=df).fit()\n",
    "    \n",
    "\n",
    "model_reduced_fitted = smf.ols(formula = patsy_description, data = df).fit()\n",
    "\n",
    "print(\"\\n***\")\n",
    "print(model_reduced_fitted.summary())\n",
    "print(\"***\")\n",
    "print(f\"Regression number of terms: {len(model_reduced_fitted.model.exog_names)}\")\n",
    "print(f\"Regression F-distribution p-value: {model_reduced_fitted.f_pvalue:.4f}\")\n",
    "print(f\"Regression R-squared: {model_reduced_fitted.rsquared:.4f}\")\n",
    "print(f\"Regression Adjusted R-squared: {model_reduced_fitted.rsquared_adj:.4f}\")"
   ]
  },
  {
   "cell_type": "markdown",
   "metadata": {},
   "source": [
    "Defining a new data frame for actual ejection_fraction vs. predicted ejection_fraction and the residuals for the reduced model."
   ]
  },
  {
   "cell_type": "code",
   "execution_count": null,
   "metadata": {},
   "outputs": [],
   "source": [
    "residuals_reduced = pd.DataFrame({'actual': df['ejection_fraction'], \n",
    "                            'predicted': model_reduced_fitted.fittedvalues, \n",
    "                            'residual': model_reduced_fitted.resid})\n",
    "residuals_reduced.head(10)"
   ]
  },
  {
   "cell_type": "code",
   "execution_count": null,
   "metadata": {},
   "outputs": [],
   "source": [
    "plt.scatter(residuals_reduced['actual'], residuals_reduced['predicted'], alpha=0.3);\n",
    "plot_line(axis=plt.gca(), slope=1, intercept=0, c=\"red\");\n",
    "plt.xlabel('Actual ejection fraction');\n",
    "plt.ylabel('Predicted ejection fraction');\n",
    "plt.title('Figure 28: Scatter plot of actual vs. predicted ejection_fraction for the reduced model', fontsize=15);\n",
    "plt.show();"
   ]
  },
  {
   "cell_type": "code",
   "execution_count": null,
   "metadata": {},
   "outputs": [],
   "source": [
    "print(f'Our reduced model returns an Adjusted R-squared of {round (0.1188, 3)}. That means, it explains 11.9% variability in the ejection fraction in the heart failure patients.')"
   ]
  },
  {
   "cell_type": "markdown",
   "metadata": {},
   "source": [
    "The reduced model has 8 less variables compared to the full model. All the p-values of the reduced model are significant at the 5% level. We can say the difference between `Figure 23` and `Figure 28` is quite minimal despite dropping 8 attributes from the full model."
   ]
  },
  {
   "cell_type": "markdown",
   "metadata": {},
   "source": [
    "# <font color=#4B52D2>Reduced Model Diagnostic Checks</font>"
   ]
  },
  {
   "cell_type": "code",
   "execution_count": null,
   "metadata": {},
   "outputs": [],
   "source": [
    "plt.scatter(residuals_reduced['predicted'], residuals_reduced['residual'], alpha=0.3);\n",
    "plt.xlabel('Predicted ejection fraction');\n",
    "plt.ylabel('Residuals')\n",
    "plt.title('Figure 29: Scatter plot of residuals vs. predicted ejection fractions for Reduced Model', fontsize=15)\n",
    "plt.show();"
   ]
  },
  {
   "cell_type": "markdown",
   "metadata": {},
   "source": [
    "Comparing `Figure 24` and `Figure 29`, they don't have much of a difference."
   ]
  },
  {
   "cell_type": "code",
   "execution_count": null,
   "metadata": {},
   "outputs": [],
   "source": [
    "plt.hist(residuals_reduced['residual'], bins = 11);\n",
    "plt.xlabel('Residual');\n",
    "plt.ylabel('Frequency');\n",
    "plt.title('Figure 30: Histogram of residuals for Reduced Model', fontsize = 15)\n",
    "plt.show();"
   ]
  },
  {
   "cell_type": "markdown",
   "metadata": {},
   "source": [
    "From `Figure 30`, there is a slightly symmetric histogram around zero, which implies that the residuals are nearly normally distributed."
   ]
  },
  {
   "cell_type": "markdown",
   "metadata": {},
   "source": [
    "# <font color=#4B52D2>Summary and Conclusions</font>"
   ]
  },
  {
   "cell_type": "markdown",
   "metadata": {},
   "source": [
    "We started off with the full model and obtained an  Adjusted R-squared value of about 11%. After performing backwards variable selection, the Adjusted R-squared value increased to 11.88%, rounding it to 11.9%. The p-value cutoff was 0.05, and the reduced model has 8 less attributes. It consists of 3 variables and 1 interaction term, with a p-value of 0. The final multiple linear regression model has an Adjusted R-squared value of about 12%, which is extremely low.\n",
    "This means that the data we have is not sufficient to predict the survial rate of a patient, and the model might need many more attributes to help determine it better. We noticed that the model overestimates lower ejection fraction and underestimates higher ejection fraction. In particular, for ejection fractions below 40, the model predicts much higher ejection fractions. Also, for those above  ejection fraction of 40, the model predicts significantly lower ejection fractions."
   ]
  },
  {
   "cell_type": "markdown",
   "metadata": {},
   "source": [
    "# <font color=#4B52D2>References</font>"
   ]
  },
  {
   "cell_type": "markdown",
   "metadata": {},
   "source": [
    "Chicco, D., Jurman, G. (2020, February 3). Machine learning can predict survival of patients with heart failure from serum creatinine and ejection fraction alone. BMC Medical Informatics and Decision Making. https://bmcmedinformdecismak.biomedcentral.com/articles/10.1186/s12911-020-1023-5#Sec2, \n",
    "[Last Accessed 2020-11-1]\n",
    "\n",
    "Chicco, D., Jurman, G. (2020, February 3). UCI Machine Learning Repository [online]. Available at http://archive.ics.uci.edu/ml/datasets/Heart+failure+clinical+records, \n",
    "[Last Accessed 2020-11-1]\n"
   ]
  }
 ],
 "metadata": {
  "kernelspec": {
   "display_name": "Python 3",
   "language": "python",
   "name": "python3"
  },
  "language_info": {
   "codemirror_mode": {
    "name": "ipython",
    "version": 3
   },
   "file_extension": ".py",
   "mimetype": "text/x-python",
   "name": "python",
   "nbconvert_exporter": "python",
   "pygments_lexer": "ipython3",
   "version": "3.8.8"
  }
 },
 "nbformat": 4,
 "nbformat_minor": 4
}
